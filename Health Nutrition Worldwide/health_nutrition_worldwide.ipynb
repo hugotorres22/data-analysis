{
 "cells": [
  {
   "attachments": {},
   "cell_type": "markdown",
   "metadata": {},
   "source": [
    "### Health and Nutrition Worldwide\n",
    "\n",
    "This dataset was downloaded from kaggle on 7 feb 23 and this analysis has the following objectives:\n",
    "- Understand how region and income group influence the health and nutrition indicators\n",
    "- How the health and nutrition indicators are related between themselves\n",
    "- Understand if we can group the countries based on the indicators provided\n",
    "- Understand which zones have been improving and declining their indicators"
   ]
  },
  {
   "cell_type": "code",
   "execution_count": null,
   "metadata": {},
   "outputs": [],
   "source": [
    "# !kaggle datasets download -d sivamsinghsh/health-nutrition-and-population-statistics"
   ]
  },
  {
   "cell_type": "code",
   "execution_count": null,
   "metadata": {},
   "outputs": [],
   "source": [
    "# import zipfile\n",
    "\n",
    "# with zipfile.ZipFile('health-nutrition-and-population-statistics.zip', 'r') as zip_ref:\n",
    "#     zip_ref.extractall()"
   ]
  },
  {
   "attachments": {},
   "cell_type": "markdown",
   "metadata": {},
   "source": [
    "Analysing the Excel file we can see that there are three sheets we will need to work with:\n",
    "- _Data_ : The whole dataset with the indicator values\n",
    "- _Country_ : We will use the columns _Region_ and _Income Group_ from this dataset\n",
    "- _Series_ : We will use the column _Topic_ for our analysis"
   ]
  },
  {
   "cell_type": "code",
   "execution_count": null,
   "metadata": {},
   "outputs": [],
   "source": [
    "import pandas as pd"
   ]
  },
  {
   "cell_type": "code",
   "execution_count": null,
   "metadata": {},
   "outputs": [],
   "source": [
    "indicators_dataset = pd.read_excel('HNP_StatsEXCEL.xlsx', sheet_name='Data')\n",
    "country_dataset = pd.read_excel('HNP_StatsEXCEL.xlsx', sheet_name='Country')\n",
    "series_dataset = pd.read_excel('HNP_StatsEXCEL.xlsx', sheet_name='Series')"
   ]
  },
  {
   "attachments": {},
   "cell_type": "markdown",
   "metadata": {},
   "source": [
    "Having our datasets imported, let's filter the relevant columns for our analysis"
   ]
  },
  {
   "cell_type": "code",
   "execution_count": null,
   "metadata": {},
   "outputs": [],
   "source": [
    "country_dataset = country_dataset[['Country Code','Region','Income Group']]\n",
    "series_dataset = series_dataset[['Series Code','Topic']]"
   ]
  },
  {
   "attachments": {},
   "cell_type": "markdown",
   "metadata": {},
   "source": [
    "Let's take a look at our datasets now"
   ]
  },
  {
   "cell_type": "code",
   "execution_count": null,
   "metadata": {},
   "outputs": [],
   "source": [
    "indicators_dataset.head(2)"
   ]
  },
  {
   "cell_type": "code",
   "execution_count": null,
   "metadata": {},
   "outputs": [],
   "source": [
    "country_dataset.head(2)"
   ]
  },
  {
   "cell_type": "code",
   "execution_count": null,
   "metadata": {},
   "outputs": [],
   "source": [
    "series_dataset.head(10)"
   ]
  },
  {
   "attachments": {},
   "cell_type": "markdown",
   "metadata": {},
   "source": [
    "Right away we can see that the dataset is organized in a way which has a column for each year represented, which might not be suitable for our analysis. For now, let's reshape the dataframe, creating a single column for the year and a column for the value. We will also create a new dataset with only the most recent year, in order to assess and analyse the current state of the indicators.\n",
    "\n",
    "Also, as a good pratice, let's rename the column names to lowercase and separated by an underscore"
   ]
  },
  {
   "cell_type": "code",
   "execution_count": null,
   "metadata": {},
   "outputs": [],
   "source": [
    "column_mapper = {\n",
    "    'Country Name':'country_name',\n",
    "    'Country Code':'country_code',\n",
    "    'Indicator Name':'indicator_name',\n",
    "    'Indicator Code':'series_code',\n",
    "    'Region':'region',\n",
    "    'Income Group':'income_group',\n",
    "    'Series Code':'series_code',\n",
    "    'Topic':'topic'\n",
    "}\n",
    "\n",
    "indicators_dataset = indicators_dataset.rename(columns=column_mapper)\n",
    "country_dataset = country_dataset.rename(columns=column_mapper)\n",
    "series_dataset = series_dataset.rename(columns=column_mapper)"
   ]
  },
  {
   "cell_type": "code",
   "execution_count": null,
   "metadata": {},
   "outputs": [],
   "source": [
    "indicators_dataset = indicators_dataset.melt(id_vars=['country_name','country_code','indicator_name','series_code'], var_name='year' )"
   ]
  },
  {
   "cell_type": "code",
   "execution_count": null,
   "metadata": {},
   "outputs": [],
   "source": [
    "indicators_dataset_2021 = indicators_dataset.loc[indicators_dataset['year']=='2021'].copy()"
   ]
  },
  {
   "attachments": {},
   "cell_type": "markdown",
   "metadata": {},
   "source": [
    "Looking at the _series_dataset_, we can also verify that the _Topic_ column seems to have a main category and a secondary category. It might become helpfull to have this categories separated."
   ]
  },
  {
   "cell_type": "code",
   "execution_count": null,
   "metadata": {},
   "outputs": [],
   "source": [
    "series_dataset[['main_topic','secondary_topic']] = series_dataset['topic'].str.split(':',expand=True)"
   ]
  },
  {
   "attachments": {},
   "cell_type": "markdown",
   "metadata": {},
   "source": [
    "Let's start out analysis! Since we have a large number of countries and indicators represented, we will start by analysing the data by the top level categories (_Region_, _Income Group_, _Main Topic_) and drill down as we see fit. We will also start by 2021 only and later we will analyse the evolution of the indicators throughout time."
   ]
  },
  {
   "cell_type": "code",
   "execution_count": null,
   "metadata": {},
   "outputs": [],
   "source": [
    "dataset_2021 = indicators_dataset_2021\\\n",
    "                .merge(country_dataset, how='left', on='country_code', suffixes=['_d','_c'])\\\n",
    "                .merge(series_dataset, how='left', on='series_code', suffixes=['_d','_s'])"
   ]
  },
  {
   "cell_type": "code",
   "execution_count": 44,
   "metadata": {},
   "outputs": [],
   "source": [
    "dataset_2021.drop(['country_code','series_code'], axis=1, inplace=True)"
   ]
  },
  {
   "cell_type": "code",
   "execution_count": 45,
   "metadata": {},
   "outputs": [
    {
     "data": {
      "text/html": [
       "<div>\n",
       "<style scoped>\n",
       "    .dataframe tbody tr th:only-of-type {\n",
       "        vertical-align: middle;\n",
       "    }\n",
       "\n",
       "    .dataframe tbody tr th {\n",
       "        vertical-align: top;\n",
       "    }\n",
       "\n",
       "    .dataframe thead th {\n",
       "        text-align: right;\n",
       "    }\n",
       "</style>\n",
       "<table border=\"1\" class=\"dataframe\">\n",
       "  <thead>\n",
       "    <tr style=\"text-align: right;\">\n",
       "      <th></th>\n",
       "      <th>country_name</th>\n",
       "      <th>indicator_name</th>\n",
       "      <th>year</th>\n",
       "      <th>value</th>\n",
       "      <th>region</th>\n",
       "      <th>income_group</th>\n",
       "      <th>topic</th>\n",
       "      <th>main_topic</th>\n",
       "      <th>secondary_topic</th>\n",
       "    </tr>\n",
       "  </thead>\n",
       "  <tbody>\n",
       "    <tr>\n",
       "      <th>0</th>\n",
       "      <td>Africa Eastern and Southern</td>\n",
       "      <td>Adolescent fertility rate (births per 1,000 wo...</td>\n",
       "      <td>2021</td>\n",
       "      <td>NaN</td>\n",
       "      <td>NaN</td>\n",
       "      <td>NaN</td>\n",
       "      <td>Reproductive health</td>\n",
       "      <td>Reproductive health</td>\n",
       "      <td>None</td>\n",
       "    </tr>\n",
       "    <tr>\n",
       "      <th>1</th>\n",
       "      <td>Africa Eastern and Southern</td>\n",
       "      <td>Adults (ages 15+) and children (0-14 years) li...</td>\n",
       "      <td>2021</td>\n",
       "      <td>NaN</td>\n",
       "      <td>NaN</td>\n",
       "      <td>NaN</td>\n",
       "      <td>HIV/AIDS</td>\n",
       "      <td>HIV/AIDS</td>\n",
       "      <td>None</td>\n",
       "    </tr>\n",
       "    <tr>\n",
       "      <th>2</th>\n",
       "      <td>Africa Eastern and Southern</td>\n",
       "      <td>Adults (ages 15+) and children (ages 0-14) new...</td>\n",
       "      <td>2021</td>\n",
       "      <td>NaN</td>\n",
       "      <td>NaN</td>\n",
       "      <td>NaN</td>\n",
       "      <td>HIV/AIDS</td>\n",
       "      <td>HIV/AIDS</td>\n",
       "      <td>None</td>\n",
       "    </tr>\n",
       "  </tbody>\n",
       "</table>\n",
       "</div>"
      ],
      "text/plain": [
       "                  country_name  \\\n",
       "0  Africa Eastern and Southern   \n",
       "1  Africa Eastern and Southern   \n",
       "2  Africa Eastern and Southern   \n",
       "\n",
       "                                      indicator_name  year  value region  \\\n",
       "0  Adolescent fertility rate (births per 1,000 wo...  2021    NaN    NaN   \n",
       "1  Adults (ages 15+) and children (0-14 years) li...  2021    NaN    NaN   \n",
       "2  Adults (ages 15+) and children (ages 0-14) new...  2021    NaN    NaN   \n",
       "\n",
       "  income_group                topic           main_topic secondary_topic  \n",
       "0          NaN  Reproductive health  Reproductive health            None  \n",
       "1          NaN             HIV/AIDS             HIV/AIDS            None  \n",
       "2          NaN             HIV/AIDS             HIV/AIDS            None  "
      ]
     },
     "execution_count": 45,
     "metadata": {},
     "output_type": "execute_result"
    }
   ],
   "source": [
    "dataset_2021.head(3)"
   ]
  },
  {
   "attachments": {},
   "cell_type": "markdown",
   "metadata": {},
   "source": [
    "By looking at the result table we can see that we are missing some values in the columns _value_, _region_ and _income_group_. Although we cannot attribute any values to _value_ since these are missing due to the data not being collected, we can assign a category of 'No Information' to _income_group_. We can also verify if the countries without region aren't a region per se, like 'Africa Eastern and Southern'."
   ]
  },
  {
   "cell_type": "code",
   "execution_count": 46,
   "metadata": {},
   "outputs": [],
   "source": [
    "dataset_2021.loc[dataset_2021['income_group'].isna(), 'income_group'] = 'No Information'"
   ]
  },
  {
   "cell_type": "code",
   "execution_count": 48,
   "metadata": {},
   "outputs": [
    {
     "data": {
      "text/plain": [
       "array(['Africa Eastern and Southern', 'Africa Western and Central',\n",
       "       'Arab World', 'Caribbean small states',\n",
       "       'Central Europe and the Baltics', 'Early-demographic dividend',\n",
       "       'East Asia & Pacific',\n",
       "       'East Asia & Pacific (excluding high income)',\n",
       "       'East Asia & Pacific (IDA & IBRD countries)', 'Euro area',\n",
       "       'Europe & Central Asia',\n",
       "       'Europe & Central Asia (excluding high income)',\n",
       "       'Europe & Central Asia (IDA & IBRD countries)', 'European Union',\n",
       "       'Fragile and conflict affected situations',\n",
       "       'Heavily indebted poor countries (HIPC)', 'High income',\n",
       "       'IBRD only', 'IDA & IBRD total', 'IDA blend', 'IDA only',\n",
       "       'IDA total', 'Late-demographic dividend',\n",
       "       'Latin America & Caribbean',\n",
       "       'Latin America & Caribbean (excluding high income)',\n",
       "       'Latin America & the Caribbean (IDA & IBRD countries)',\n",
       "       'Least developed countries: UN classification',\n",
       "       'Low & middle income', 'Low income', 'Lower middle income',\n",
       "       'Middle East & North Africa',\n",
       "       'Middle East & North Africa (excluding high income)',\n",
       "       'Middle East & North Africa (IDA & IBRD countries)',\n",
       "       'Middle income', 'North America', 'Not classified', 'OECD members',\n",
       "       'Other small states', 'Pacific island small states',\n",
       "       'Post-demographic dividend', 'Pre-demographic dividend',\n",
       "       'Small states', 'South Asia', 'South Asia (IDA & IBRD)',\n",
       "       'Sub-Saharan Africa', 'Sub-Saharan Africa (excluding high income)',\n",
       "       'Sub-Saharan Africa (IDA & IBRD countries)', 'Upper middle income',\n",
       "       'World'], dtype=object)"
      ]
     },
     "execution_count": 48,
     "metadata": {},
     "output_type": "execute_result"
    }
   ],
   "source": [
    "dataset_2021.loc[dataset_2021['region'].isna(), 'country_name'].unique()"
   ]
  }
 ],
 "metadata": {
  "kernelspec": {
   "display_name": "Python 3",
   "language": "python",
   "name": "python3"
  },
  "language_info": {
   "codemirror_mode": {
    "name": "ipython",
    "version": 3
   },
   "file_extension": ".py",
   "mimetype": "text/x-python",
   "name": "python",
   "nbconvert_exporter": "python",
   "pygments_lexer": "ipython3",
   "version": "3.9.5"
  },
  "orig_nbformat": 4,
  "vscode": {
   "interpreter": {
    "hash": "81794d4967e6c3204c66dcd87b604927b115b27c00565d3d43f05ba2f3a2cb0d"
   }
  }
 },
 "nbformat": 4,
 "nbformat_minor": 2
}
