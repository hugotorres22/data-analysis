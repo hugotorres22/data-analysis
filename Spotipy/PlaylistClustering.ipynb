{
 "cells": [
  {
   "cell_type": "code",
   "execution_count": 14,
   "metadata": {},
   "outputs": [],
   "source": [
    "import pandas as pd\n",
    "import matplotlib.pyplot as plt\n",
    "import numpy as np\n",
    "from sklearn.cluster import KMeans"
   ]
  },
  {
   "cell_type": "code",
   "execution_count": 15,
   "metadata": {},
   "outputs": [],
   "source": [
    "data = pd.read_parquet(\"PlaylistTracks.parquet\")"
   ]
  },
  {
   "cell_type": "code",
   "execution_count": 16,
   "metadata": {},
   "outputs": [],
   "source": [
    "x = data.loc[:, ['danceability','energy','instrumentalness','liveness','tempo','track_duration_secs']].values"
   ]
  },
  {
   "cell_type": "code",
   "execution_count": 34,
   "metadata": {},
   "outputs": [
    {
     "data": {
      "text/plain": [
       "array([[3.52000e-01, 9.11000e-01, 6.47000e-01, 5.03000e-01, 1.58025e+02,\n",
       "        2.52000e+02],\n",
       "       [1.15000e-01, 6.46000e-01, 9.57000e-01, 3.67000e-01, 1.67241e+02,\n",
       "        2.59000e+02],\n",
       "       [2.82000e-01, 8.97000e-01, 8.13000e-01, 2.02000e-01, 1.00089e+02,\n",
       "        1.95000e+02],\n",
       "       ...,\n",
       "       [3.48000e-01, 9.37000e-01, 7.35000e-04, 2.69000e-01, 1.60006e+02,\n",
       "        2.62000e+02],\n",
       "       [6.75000e-01, 9.20000e-01, 1.17000e-01, 3.29000e-01, 1.32001e+02,\n",
       "        3.29000e+02],\n",
       "       [4.56000e-01, 9.62000e-01, 8.14000e-02, 8.94000e-02, 1.40989e+02,\n",
       "        2.11000e+02]])"
      ]
     },
     "execution_count": 34,
     "metadata": {},
     "output_type": "execute_result"
    }
   ],
   "source": [
    "x"
   ]
  },
  {
   "cell_type": "code",
   "execution_count": 17,
   "metadata": {},
   "outputs": [],
   "source": [
    "wcss = []"
   ]
  },
  {
   "cell_type": "code",
   "execution_count": 18,
   "metadata": {},
   "outputs": [],
   "source": [
    "for i in range(1,11,1):\n",
    "    kmeans = KMeans(n_clusters = i, init='k-means++')\n",
    "    kmeans.fit(x)\n",
    "    wcss.append(kmeans.inertia_)"
   ]
  },
  {
   "cell_type": "code",
   "execution_count": 19,
   "metadata": {},
   "outputs": [
    {
     "data": {
      "image/png": "[encoded data removed]",
      "text/plain": [
       "<Figure size 432x288 with 1 Axes>"
      ]
     },
     "metadata": {
      "needs_background": "light"
     },
     "output_type": "display_data"
    }
   ],
   "source": [
    "plt.plot(range(1,11,1),wcss)\n",
    "plt.title(\"The Elbow Method\")\n",
    "plt.xlabel(\"Number of clusters\")\n",
    "plt.ylabel(\"WCSS\")\n",
    "plt.show()"
   ]
  },
  {
   "cell_type": "code",
   "execution_count": 20,
   "metadata": {},
   "outputs": [],
   "source": [
    "kmeans = KMeans(n_clusters = 3, init='k-means++')\n",
    "y_kmeans = kmeans.fit_predict(x)"
   ]
  },
  {
   "cell_type": "code",
   "execution_count": 21,
   "metadata": {},
   "outputs": [],
   "source": [
    "data['cluster'] = y_kmeans"
   ]
  },
  {
   "cell_type": "code",
   "execution_count": 22,
   "metadata": {},
   "outputs": [
    {
     "data": {
      "text/html": [
       "<div>\n",
       "<style scoped>\n",
       "    .dataframe tbody tr th:only-of-type {\n",
       "        vertical-align: middle;\n",
       "    }\n",
       "\n",
       "    .dataframe tbody tr th {\n",
       "        vertical-align: top;\n",
       "    }\n",
       "\n",
       "    .dataframe thead th {\n",
       "        text-align: right;\n",
       "    }\n",
       "</style>\n",
       "<table border=\"1\" class=\"dataframe\">\n",
       "  <thead>\n",
       "    <tr style=\"text-align: right;\">\n",
       "      <th></th>\n",
       "      <th>danceability</th>\n",
       "      <th>energy</th>\n",
       "      <th>instrumentalness</th>\n",
       "      <th>liveness</th>\n",
       "      <th>tempo</th>\n",
       "      <th>track_duration_secs</th>\n",
       "    </tr>\n",
       "    <tr>\n",
       "      <th>cluster</th>\n",
       "      <th></th>\n",
       "      <th></th>\n",
       "      <th></th>\n",
       "      <th></th>\n",
       "      <th></th>\n",
       "      <th></th>\n",
       "    </tr>\n",
       "  </thead>\n",
       "  <tbody>\n",
       "    <tr>\n",
       "      <th>0</th>\n",
       "      <td>0.455391</td>\n",
       "      <td>0.726213</td>\n",
       "      <td>0.196404</td>\n",
       "      <td>0.187896</td>\n",
       "      <td>128.974170</td>\n",
       "      <td>284.235828</td>\n",
       "    </tr>\n",
       "    <tr>\n",
       "      <th>1</th>\n",
       "      <td>0.459809</td>\n",
       "      <td>0.796710</td>\n",
       "      <td>0.122765</td>\n",
       "      <td>0.216323</td>\n",
       "      <td>131.915656</td>\n",
       "      <td>192.090663</td>\n",
       "    </tr>\n",
       "    <tr>\n",
       "      <th>2</th>\n",
       "      <td>0.356868</td>\n",
       "      <td>0.751553</td>\n",
       "      <td>0.266914</td>\n",
       "      <td>0.217558</td>\n",
       "      <td>129.403026</td>\n",
       "      <td>485.315789</td>\n",
       "    </tr>\n",
       "  </tbody>\n",
       "</table>\n",
       "</div>"
      ],
      "text/plain": [
       "         danceability    energy  instrumentalness  liveness       tempo  \\\n",
       "cluster                                                                   \n",
       "0            0.455391  0.726213          0.196404  0.187896  128.974170   \n",
       "1            0.459809  0.796710          0.122765  0.216323  131.915656   \n",
       "2            0.356868  0.751553          0.266914  0.217558  129.403026   \n",
       "\n",
       "         track_duration_secs  \n",
       "cluster                       \n",
       "0                 284.235828  \n",
       "1                 192.090663  \n",
       "2                 485.315789  "
      ]
     },
     "execution_count": 22,
     "metadata": {},
     "output_type": "execute_result"
    }
   ],
   "source": [
    "data.groupby('cluster').agg({\n",
    "    'danceability':np.mean,\n",
    "    'energy':np.mean,\n",
    "    'instrumentalness':np.mean,\n",
    "    'liveness':np.mean,\n",
    "    'tempo':np.mean,\n",
    "    'track_duration_secs':np.mean\n",
    "})"
   ]
  },
  {
   "cell_type": "markdown",
   "metadata": {},
   "source": [
    "PCA Analysis"
   ]
  },
  {
   "cell_type": "code",
   "execution_count": 24,
   "metadata": {},
   "outputs": [],
   "source": [
    "data_pca = data.loc[:, ['danceability','energy','instrumentalness','liveness','tempo','track_duration_secs']]"
   ]
  },
  {
   "cell_type": "code",
   "execution_count": 27,
   "metadata": {},
   "outputs": [],
   "source": [
    "from sklearn.decomposition import PCA\n",
    "pca = PCA(n_components = 2)\n",
    "data_pcs = pca.fit_transform(data_pca)"
   ]
  },
  {
   "cell_type": "code",
   "execution_count": 28,
   "metadata": {},
   "outputs": [
    {
     "data": {
      "text/plain": [
       "array([[ 17.11582301, -27.43144725],\n",
       "       [ 24.02054813, -36.7190538 ],\n",
       "       [-39.28222612,  31.0904594 ],\n",
       "       ...,\n",
       "       [ 27.09446663, -29.51580707],\n",
       "       [ 94.38029383,  -2.20425032],\n",
       "       [-23.70622109,  -9.97255985]])"
      ]
     },
     "execution_count": 28,
     "metadata": {},
     "output_type": "execute_result"
    }
   ],
   "source": [
    "data_pcs"
   ]
  },
  {
   "cell_type": "code",
   "execution_count": 36,
   "metadata": {},
   "outputs": [],
   "source": [
    "wcss = []"
   ]
  },
  {
   "cell_type": "code",
   "execution_count": 37,
   "metadata": {},
   "outputs": [],
   "source": [
    "for i in range(1,11,1):\n",
    "    kmeans = KMeans(n_clusters = i, init='k-means++')\n",
    "    kmeans.fit(data_pcs)\n",
    "    wcss.append(kmeans.inertia_)"
   ]
  },
  {
   "cell_type": "code",
   "execution_count": 38,
   "metadata": {},
   "outputs": [
    {
     "data": {
      "image/png": "[encoded data removed]",
      "text/plain": [
       "<Figure size 432x288 with 1 Axes>"
      ]
     },
     "metadata": {
      "needs_background": "light"
     },
     "output_type": "display_data"
    }
   ],
   "source": [
    "plt.plot(range(1,11,1),wcss)\n",
    "plt.title(\"The Elbow Method\")\n",
    "plt.xlabel(\"Number of clusters\")\n",
    "plt.ylabel(\"WCSS\")\n",
    "plt.show()"
   ]
  }
 ],
 "metadata": {
  "kernelspec": {
   "display_name": "Python 3.10.5 64-bit",
   "language": "python",
   "name": "python3"
  },
  "language_info": {
   "codemirror_mode": {
    "name": "ipython",
    "version": 3
   },
   "file_extension": ".py",
   "mimetype": "text/x-python",
   "name": "python",
   "nbconvert_exporter": "python",
   "pygments_lexer": "ipython3",
   "version": "3.10.5"
  },
  "orig_nbformat": 4,
  "vscode": {
   "interpreter": {
    "hash": "99ad8a9e5a54017690da210a436593ff41043aa3f9e36a04811f6ed1dc81282b"
   }
  }
 },
 "nbformat": 4,
 "nbformat_minor": 2
}
