{
  "cells": [
    {
      "cell_type": "markdown",
      "metadata": {
        "id": "AxNQ82NbCcwv"
      },
      "source": [
        "Ideias:\n",
        "\n",
        "New is always better (Heat map para ver se ando a ouvir musica que adicionei recentemente)\n",
        "\n",
        "Divisão por estilos\n",
        "\n",
        "Divisão por artistas\n",
        "\n",
        "Horas ouvidas por dia\n",
        "\n",
        "Horas mais frequentes a ouvir\n",
        "\n",
        "Estilo mais predominante por hora\n",
        "\n",
        "Caracteristicas da musica"
      ]
    },
    {
      "cell_type": "code",
      "execution_count": null,
      "metadata": {
        "colab": {
          "base_uri": "https://localhost:8080/"
        },
        "id": "glsvODBcbuMU",
        "outputId": "89a04bf8-3d8b-41de-cd13-2038765dc145"
      },
      "outputs": [],
      "source": [
        "# !pip install spotipy\n",
        "# !pip install wordcloud\n",
        "# !pip install pandas\n",
        "# !pip install numpy\n",
        "# !pip install matplotlib\n",
        "# !pip install seaborn\n",
        "# !pip install git+https://github.com/plamere/spotipy.git --upgrade\n",
        "# !pip install seaborn\n",
        "# !pip install python-dotenv\n",
        "# !pip install openpyxl"
      ]
    },
    {
      "cell_type": "code",
      "execution_count": null,
      "metadata": {
        "id": "49hLaZMNFAdV"
      },
      "outputs": [],
      "source": [
        "import spotipy\n",
        "from spotipy.oauth2 import SpotifyOAuth, SpotifyClientCredentials\n",
        "import pandas as pd\n",
        "import time\n",
        "import numpy as np\n",
        "from functions.spotipyTools import *\n",
        "from wordcloud import WordCloud\n",
        "from wordcloud import ImageColorGenerator\n",
        "from wordcloud import STOPWORDS\n",
        "import matplotlib.pyplot as plt\n",
        "import seaborn as sns \n",
        "from dotenv import load_dotenv\n",
        "import os\n",
        "import openpyxl"
      ]
    },
    {
      "cell_type": "code",
      "execution_count": null,
      "metadata": {},
      "outputs": [],
      "source": [
        "load_dotenv()"
      ]
    },
    {
      "cell_type": "code",
      "execution_count": null,
      "metadata": {
        "id": "IMcbLjH7F4Nl"
      },
      "outputs": [],
      "source": [
        "e_client_id = os.environ[\"client_id\"]\n",
        "e_client_key = os.environ[\"client_key\"]\n",
        "e_playlist_id = os.environ[\"playlist_id\"]\n",
        "e_user_id = os.environ[\"user_id\"]\n",
        "\n",
        "sp_login = spotipy.Spotify(auth_manager=SpotifyOAuth(client_id=e_client_id,\n",
        "                                               client_secret=e_client_key,\n",
        "                                               redirect_uri=\"http://localhost:8888/callback\",\n",
        "                                               scope=\"user-read-recently-played\"))\n",
        "\n",
        "\n",
        "client_credentials_manager = SpotifyClientCredentials(e_client_id, e_client_key)\n",
        "sp = spotipy.Spotify(client_credentials_manager=client_credentials_manager)"
      ]
    },
    {
      "cell_type": "code",
      "execution_count": null,
      "metadata": {},
      "outputs": [],
      "source": [
        "# sp_login.current_user_recently_played()"
      ]
    },
    {
      "cell_type": "code",
      "execution_count": null,
      "metadata": {
        "id": "JMDQoTlgSRu9"
      },
      "outputs": [],
      "source": [
        "all_tracks = get_playlist_tracks(e_user_id, e_playlist_id, sp)\n",
        "\n",
        "track_info_list = []\n",
        "\n",
        "for item in all_tracks:\n",
        "  track_info_list.append(get_track_info(item, sp))\n",
        "\n",
        "df_tracks = pd.DataFrame(track_info_list, columns=['name', 'artist_name', 'album_name', 'album_date', 'album_popularity', 'track_duration', 'danceability', 'energy', 'instrumentalness', 'liveness', 'tempo','artist_url'])"
      ]
    },
    {
      "cell_type": "code",
      "execution_count": null,
      "metadata": {
        "id": "3vGF4X4Pc9B2"
      },
      "outputs": [],
      "source": [
        "#df_tracks['album_year'] = pd.to_datetime(df_tracks['album_year'], format='%Y-%m-%d').dt.year\n",
        "df_tracks['album_year'] = pd.to_datetime(df_tracks['album_date'], format='%Y-%m-%d').dt.year"
      ]
    },
    {
      "cell_type": "code",
      "execution_count": null,
      "metadata": {
        "id": "3A6sG9fcgf12"
      },
      "outputs": [],
      "source": [
        "track_minutes = np.floor(df_tracks['track_duration']/1000/60).astype(int).astype(str)\n",
        "track_seconds = np.mod(df_tracks['track_duration']/1000,60).astype(int).astype(str)\n",
        "track_time = track_minutes.append(track_seconds).groupby(level=0).agg(':'.join)\n",
        "df_tracks['track_duration'] = pd.to_datetime(track_time, format='%M:%S').dt.time\n",
        "df_tracks['track_duration_secs'] = df_tracks['track_duration'].apply(lambda x: x.minute * 60 + x.second)"
      ]
    },
    {
      "cell_type": "code",
      "execution_count": null,
      "metadata": {
        "colab": {
          "base_uri": "https://localhost:8080/",
          "height": 461
        },
        "id": "RIBZrfHiogEG",
        "outputId": "f5702824-e643-4372-893d-5472a8c749dd"
      },
      "outputs": [],
      "source": [
        "df_tracks.tail()"
      ]
    },
    {
      "cell_type": "code",
      "execution_count": null,
      "metadata": {
        "id": "CCdWNrsyuqkV"
      },
      "outputs": [],
      "source": [
        "artists = df_tracks['artist_url'].unique()\n",
        "genres = get_artist_genre(artists, sp)"
      ]
    },
    {
      "cell_type": "code",
      "execution_count": null,
      "metadata": {
        "id": "Ra9OPXNwvrYC"
      },
      "outputs": [],
      "source": [
        "exploded_genres = pd.Series(genres, name='Genre').explode().reset_index()\n",
        "text = ' '.join(str(i) for i in exploded_genres.Genre)"
      ]
    },
    {
      "cell_type": "code",
      "execution_count": null,
      "metadata": {
        "id": "GkWZhU4yv9Zx"
      },
      "outputs": [],
      "source": [
        "wordcloud = WordCloud(background_color='White').generate(text)"
      ]
    },
    {
      "cell_type": "code",
      "execution_count": null,
      "metadata": {
        "colab": {
          "base_uri": "https://localhost:8080/",
          "height": 449
        },
        "id": "OD_dqw_TyeeV",
        "outputId": "20fdd521-d874-450a-bc5d-19ebe1a73e8e"
      },
      "outputs": [],
      "source": [
        "plt.figure( figsize=(15,10))\n",
        "plt.imshow(wordcloud, interpolation='bilinear')\n",
        "plt.axis(\"off\")\n",
        "plt.show()"
      ]
    },
    {
      "cell_type": "code",
      "execution_count": null,
      "metadata": {},
      "outputs": [],
      "source": [
        "df_tracks.to_excel('PlaylistTracks.xlsx', engine='openpyxl')"
      ]
    }
  ],
  "metadata": {
    "colab": {
      "authorship_tag": "ABX9TyP6gF3kEd0XJzzuG9gQOT22",
      "include_colab_link": true,
      "name": "Spotipy.ipynb",
      "provenance": []
    },
    "kernelspec": {
      "display_name": "Python 3.10.5 64-bit",
      "language": "python",
      "name": "python3"
    },
    "language_info": {
      "codemirror_mode": {
        "name": "ipython",
        "version": 3
      },
      "file_extension": ".py",
      "mimetype": "text/x-python",
      "name": "python",
      "nbconvert_exporter": "python",
      "pygments_lexer": "ipython3",
      "version": "3.10.5"
    },
    "vscode": {
      "interpreter": {
        "hash": "99ad8a9e5a54017690da210a436593ff41043aa3f9e36a04811f6ed1dc81282b"
      }
    }
  },
  "nbformat": 4,
  "nbformat_minor": 0
}
