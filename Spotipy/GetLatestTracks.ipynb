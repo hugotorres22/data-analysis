{
 "cells": [
  {
   "cell_type": "code",
   "execution_count": null,
   "metadata": {},
   "outputs": [],
   "source": [
    "import spotipy\n",
    "from spotipy.oauth2 import SpotifyOAuth, SpotifyClientCredentials\n",
    "import pandas as pd\n",
    "import time\n",
    "import numpy as np\n",
    "from functions.spotipyTools import *\n",
    "from dotenv import load_dotenv\n",
    "import os\n",
    "import openpyxl"
   ]
  },
  {
   "cell_type": "code",
   "execution_count": null,
   "metadata": {},
   "outputs": [],
   "source": [
    "load_dotenv()"
   ]
  },
  {
   "cell_type": "code",
   "execution_count": null,
   "metadata": {},
   "outputs": [],
   "source": [
    "e_client_id = os.environ[\"client_id\"]\n",
    "e_client_key = os.environ[\"client_key\"]\n",
    "e_playlist_id = os.environ[\"playlist_id\"]\n",
    "e_user_id = os.environ[\"user_id\"]\n",
    "\n",
    "sp_login = spotipy.Spotify(auth_manager=SpotifyOAuth(client_id=e_client_id,\n",
    "                                               client_secret=e_client_key,\n",
    "                                               redirect_uri=\"http://localhost:8888/callback\", # Need to whitelist the URL\n",
    "                                               scope=\"user-read-recently-played\"))"
   ]
  },
  {
   "cell_type": "code",
   "execution_count": null,
   "metadata": {},
   "outputs": [],
   "source": [
    "sp_login.current_user_recently_played()"
   ]
  }
 ],
 "metadata": {
  "kernelspec": {
   "display_name": "Python 3.10.5 64-bit",
   "language": "python",
   "name": "python3"
  },
  "language_info": {
   "name": "python",
   "version": "3.10.5"
  },
  "orig_nbformat": 4,
  "vscode": {
   "interpreter": {
    "hash": "99ad8a9e5a54017690da210a436593ff41043aa3f9e36a04811f6ed1dc81282b"
   }
  }
 },
 "nbformat": 4,
 "nbformat_minor": 2
}
