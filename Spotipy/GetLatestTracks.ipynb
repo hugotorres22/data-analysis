{
 "cells": [
  {
   "attachments": {},
   "cell_type": "markdown",
   "metadata": {},
   "source": [
    "### Spotipy - Get Latest Tracks\n",
    "\n",
    "In this file the goal is to extract and process all the data about the latest songs played by a certain account."
   ]
  },
  {
   "cell_type": "code",
   "execution_count": 1,
   "metadata": {},
   "outputs": [],
   "source": [
    "# !pip install spotipy --user\n",
    "# !pip install wordcloud --user\n",
    "# !pip install pandas --user\n",
    "# !pip install numpy --user\n",
    "# !pip install matplotlib --user\n",
    "# !pip install seaborn --user\n",
    "# !pip install seaborn --user\n",
    "# !pip install python-dotenv --user\n",
    "# !pip install openpyxl --user\n",
    "# !pip install pyarrow --user\n",
    "\n",
    "#The lines below were necessary due to some bugs with the latest updates of spotipy\n",
    "# !pip install git+https://github.com/plamere/spotipy.git --upgrade\n",
    "# !pip install urllib3 --upgrade \n",
    "# !pip install requests --upgrade \n",
    "# !pip install spotipy --upgrade"
   ]
  },
  {
   "cell_type": "code",
   "execution_count": 2,
   "metadata": {},
   "outputs": [],
   "source": [
    "import spotipy\n",
    "from spotipy.oauth2 import SpotifyOAuth, SpotifyClientCredentials\n",
    "import pandas as pd\n",
    "import time\n",
    "import numpy as np\n",
    "from functions.spotipyTools import *\n",
    "from dotenv import load_dotenv\n",
    "import os\n",
    "import openpyxl"
   ]
  },
  {
   "cell_type": "code",
   "execution_count": 3,
   "metadata": {},
   "outputs": [
    {
     "data": {
      "text/plain": [
       "True"
      ]
     },
     "execution_count": 3,
     "metadata": {},
     "output_type": "execute_result"
    }
   ],
   "source": [
    "load_dotenv()"
   ]
  },
  {
   "cell_type": "code",
   "execution_count": 5,
   "metadata": {},
   "outputs": [],
   "source": [
    "#The instructions to replicate this step will be inluded in the repository readme file\n",
    "\n",
    "e_client_id = os.environ[\"client_id\"]\n",
    "e_client_key = os.environ[\"client_key\"]\n",
    "e_playlist_id = os.environ[\"playlist_id\"]\n",
    "e_user_id = os.environ[\"user_id\"]\n",
    "\n",
    "sp_login = spotipy.Spotify(auth_manager=SpotifyOAuth(client_id=e_client_id,\n",
    "                                               client_secret=e_client_key,\n",
    "                                               redirect_uri=\"http://localhost:8888/callback\", # Need to whitelist the URL\n",
    "                                               scope=\"user-read-recently-played\"))"
   ]
  },
  {
   "attachments": {},
   "cell_type": "markdown",
   "metadata": {},
   "source": [
    "First we use spotipy to grab all the the recently played tracks. We use the functions created in the _functions_ folder."
   ]
  },
  {
   "cell_type": "code",
   "execution_count": 14,
   "metadata": {},
   "outputs": [],
   "source": [
    "#The second argument is the number of tracks to fetch\n",
    "\n",
    "all_tracks, dates_played = get_recent_tracks(sp_login, 300)"
   ]
  },
  {
   "attachments": {},
   "cell_type": "markdown",
   "metadata": {},
   "source": [
    "Extracts all the track's information"
   ]
  },
  {
   "cell_type": "code",
   "execution_count": 15,
   "metadata": {},
   "outputs": [],
   "source": [
    "track_info_list = []\n",
    "\n",
    "for item in all_tracks:\n",
    "  track_info_list.append(get_track_info(item, sp_login))\n",
    "\n",
    "df_tracks = pd.DataFrame(track_info_list, columns=['name', 'artist_name', 'album_name', 'album_date', 'album_popularity', 'track_duration', 'danceability', 'energy', 'instrumentalness', 'liveness', 'tempo','artist_url'])\n",
    "\n",
    "df_tracks['date_played'] = dates_played"
   ]
  },
  {
   "cell_type": "code",
   "execution_count": 17,
   "metadata": {},
   "outputs": [],
   "source": [
    "#Uncomment to append the new tracks to a previously existing list\n",
    "\n",
    "#saved_tracks = pd.read_parquet('LatestPlayedTracks.parquet')\n",
    "#df_tracks = pd.concat([df_tracks, saved_tracks]).drop_duplicates()"
   ]
  },
  {
   "attachments": {},
   "cell_type": "markdown",
   "metadata": {},
   "source": [
    "Exports to parquet to save for future analysis"
   ]
  },
  {
   "cell_type": "code",
   "execution_count": 18,
   "metadata": {},
   "outputs": [],
   "source": [
    "df_tracks.to_parquet('LatestPlayedTracks.parquet', engine='pyarrow')"
   ]
  }
 ],
 "metadata": {
  "kernelspec": {
   "display_name": "Python 3.10.5 64-bit",
   "language": "python",
   "name": "python3"
  },
  "language_info": {
   "codemirror_mode": {
    "name": "ipython",
    "version": 3
   },
   "file_extension": ".py",
   "mimetype": "text/x-python",
   "name": "python",
   "nbconvert_exporter": "python",
   "pygments_lexer": "ipython3",
   "version": "3.9.5"
  },
  "orig_nbformat": 4,
  "vscode": {
   "interpreter": {
    "hash": "99ad8a9e5a54017690da210a436593ff41043aa3f9e36a04811f6ed1dc81282b"
   }
  }
 },
 "nbformat": 4,
 "nbformat_minor": 2
}
