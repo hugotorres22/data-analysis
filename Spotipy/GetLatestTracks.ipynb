{
 "cells": [
  {
   "cell_type": "code",
   "execution_count": 1,
   "metadata": {},
   "outputs": [],
   "source": [
    "import spotipy\n",
    "from spotipy.oauth2 import SpotifyOAuth, SpotifyClientCredentials\n",
    "import pandas as pd\n",
    "import time\n",
    "import numpy as np\n",
    "from functions.spotipyTools import *\n",
    "from dotenv import load_dotenv\n",
    "import os\n",
    "import openpyxl"
   ]
  },
  {
   "cell_type": "code",
   "execution_count": 2,
   "metadata": {},
   "outputs": [
    {
     "data": {
      "text/plain": [
       "True"
      ]
     },
     "execution_count": 2,
     "metadata": {},
     "output_type": "execute_result"
    }
   ],
   "source": [
    "load_dotenv()"
   ]
  },
  {
   "cell_type": "code",
   "execution_count": 3,
   "metadata": {},
   "outputs": [],
   "source": [
    "e_client_id = os.environ[\"client_id\"]\n",
    "e_client_key = os.environ[\"client_key\"]\n",
    "e_playlist_id = os.environ[\"playlist_id\"]\n",
    "e_user_id = os.environ[\"user_id\"]\n",
    "\n",
    "sp_login = spotipy.Spotify(auth_manager=SpotifyOAuth(client_id=e_client_id,\n",
    "                                               client_secret=e_client_key,\n",
    "                                               redirect_uri=\"http://localhost:8888/callback\", # Need to whitelist the URL\n",
    "                                               scope=\"user-read-recently-played\"))"
   ]
  },
  {
   "cell_type": "code",
   "execution_count": 4,
   "metadata": {},
   "outputs": [],
   "source": [
    "recently_played = sp_login.current_user_recently_played()"
   ]
  },
  {
   "cell_type": "code",
   "execution_count": 9,
   "metadata": {},
   "outputs": [],
   "source": [
    "all_tracks, dates_played = get_recent_tracks(sp_login, 300)"
   ]
  },
  {
   "cell_type": "code",
   "execution_count": null,
   "metadata": {},
   "outputs": [],
   "source": [
    "track_info_list = []\n",
    "\n",
    "for item in all_tracks:\n",
    "  track_info_list.append(get_track_info(item, sp_login))\n",
    "\n",
    "df_tracks = pd.DataFrame(track_info_list, columns=['name', 'artist_name', 'album_name', 'album_date', 'album_popularity', 'track_duration', 'danceability', 'energy', 'instrumentalness', 'liveness', 'tempo','artist_url'])\n",
    "\n",
    "df_tracks['date_added'] = dates_played"
   ]
  }
 ],
 "metadata": {
  "kernelspec": {
   "display_name": "Python 3.10.5 64-bit",
   "language": "python",
   "name": "python3"
  },
  "language_info": {
   "codemirror_mode": {
    "name": "ipython",
    "version": 3
   },
   "file_extension": ".py",
   "mimetype": "text/x-python",
   "name": "python",
   "nbconvert_exporter": "python",
   "pygments_lexer": "ipython3",
   "version": "3.10.5"
  },
  "orig_nbformat": 4,
  "vscode": {
   "interpreter": {
    "hash": "99ad8a9e5a54017690da210a436593ff41043aa3f9e36a04811f6ed1dc81282b"
   }
  }
 },
 "nbformat": 4,
 "nbformat_minor": 2
}
