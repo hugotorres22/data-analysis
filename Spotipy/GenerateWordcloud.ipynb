{
 "cells": [
  {
   "cell_type": "code",
   "execution_count": 4,
   "metadata": {},
   "outputs": [],
   "source": [
    "import spotipy\n",
    "from spotipy.oauth2 import SpotifyOAuth, SpotifyClientCredentials\n",
    "import pandas as pd\n",
    "from wordcloud import WordCloud\n",
    "from wordcloud import ImageColorGenerator\n",
    "from wordcloud import STOPWORDS\n",
    "import matplotlib.pyplot as plt\n",
    "import seaborn as sns \n",
    "from functions.spotipyTools import *\n",
    "from dotenv import load_dotenv"
   ]
  },
  {
   "cell_type": "code",
   "execution_count": 5,
   "metadata": {},
   "outputs": [
    {
     "data": {
      "text/plain": [
       "True"
      ]
     },
     "execution_count": 5,
     "metadata": {},
     "output_type": "execute_result"
    }
   ],
   "source": [
    "load_dotenv()"
   ]
  },
  {
   "cell_type": "code",
   "execution_count": 6,
   "metadata": {},
   "outputs": [
    {
     "ename": "NameError",
     "evalue": "name 'SpotifyClientCredentials' is not defined",
     "output_type": "error",
     "traceback": [
      "\u001b[1;31m---------------------------------------------------------------------------\u001b[0m",
      "\u001b[1;31mNameError\u001b[0m                                 Traceback (most recent call last)",
      "\u001b[1;32mc:\\Users\\hsilv\\Documents\\GitHub\\test\\Spotipy\\GenerateWordcloud.ipynb Cell 3\u001b[0m in \u001b[0;36m<cell line: 6>\u001b[1;34m()\u001b[0m\n\u001b[0;32m      <a href='vscode-notebook-cell:/c%3A/Users/hsilv/Documents/GitHub/test/Spotipy/GenerateWordcloud.ipynb#ch0000007?line=2'>3</a>\u001b[0m e_playlist_id \u001b[39m=\u001b[39m os\u001b[39m.\u001b[39menviron[\u001b[39m\"\u001b[39m\u001b[39mplaylist_id\u001b[39m\u001b[39m\"\u001b[39m]\n\u001b[0;32m      <a href='vscode-notebook-cell:/c%3A/Users/hsilv/Documents/GitHub/test/Spotipy/GenerateWordcloud.ipynb#ch0000007?line=3'>4</a>\u001b[0m e_user_id \u001b[39m=\u001b[39m os\u001b[39m.\u001b[39menviron[\u001b[39m\"\u001b[39m\u001b[39muser_id\u001b[39m\u001b[39m\"\u001b[39m]\n\u001b[1;32m----> <a href='vscode-notebook-cell:/c%3A/Users/hsilv/Documents/GitHub/test/Spotipy/GenerateWordcloud.ipynb#ch0000007?line=5'>6</a>\u001b[0m client_credentials_manager \u001b[39m=\u001b[39m SpotifyClientCredentials(e_client_id, e_client_key)\n\u001b[0;32m      <a href='vscode-notebook-cell:/c%3A/Users/hsilv/Documents/GitHub/test/Spotipy/GenerateWordcloud.ipynb#ch0000007?line=6'>7</a>\u001b[0m sp \u001b[39m=\u001b[39m spotipy\u001b[39m.\u001b[39mSpotify(client_credentials_manager\u001b[39m=\u001b[39mclient_credentials_manager)\n",
      "\u001b[1;31mNameError\u001b[0m: name 'SpotifyClientCredentials' is not defined"
     ]
    }
   ],
   "source": [
    "e_client_id = os.environ[\"client_id\"]\n",
    "e_client_key = os.environ[\"client_key\"]\n",
    "e_playlist_id = os.environ[\"playlist_id\"]\n",
    "e_user_id = os.environ[\"user_id\"]\n",
    "\n",
    "client_credentials_manager = SpotifyClientCredentials(e_client_id, e_client_key)\n",
    "sp = spotipy.Spotify(client_credentials_manager=client_credentials_manager)"
   ]
  },
  {
   "cell_type": "code",
   "execution_count": null,
   "metadata": {},
   "outputs": [],
   "source": [
    "df_tracks = pd.read_parquet('PlaylistTracks.parquet')"
   ]
  },
  {
   "cell_type": "code",
   "execution_count": null,
   "metadata": {},
   "outputs": [
    {
     "ename": "NameError",
     "evalue": "name 'sp' is not defined",
     "output_type": "error",
     "traceback": [
      "\u001b[1;31m---------------------------------------------------------------------------\u001b[0m",
      "\u001b[1;31mNameError\u001b[0m                                 Traceback (most recent call last)",
      "\u001b[1;32mc:\\Users\\hsilv\\Documents\\GitHub\\test\\Spotipy\\GenerateWordcloud.ipynb Cell 3\u001b[0m in \u001b[0;36m<cell line: 2>\u001b[1;34m()\u001b[0m\n\u001b[0;32m      <a href='vscode-notebook-cell:/c%3A/Users/hsilv/Documents/GitHub/test/Spotipy/GenerateWordcloud.ipynb#ch0000001?line=0'>1</a>\u001b[0m artists \u001b[39m=\u001b[39m df_tracks[\u001b[39m'\u001b[39m\u001b[39martist_url\u001b[39m\u001b[39m'\u001b[39m]\u001b[39m.\u001b[39munique()\n\u001b[1;32m----> <a href='vscode-notebook-cell:/c%3A/Users/hsilv/Documents/GitHub/test/Spotipy/GenerateWordcloud.ipynb#ch0000001?line=1'>2</a>\u001b[0m genres \u001b[39m=\u001b[39m get_artist_genre(artists, sp)\n",
      "\u001b[1;31mNameError\u001b[0m: name 'sp' is not defined"
     ]
    }
   ],
   "source": [
    "artists = df_tracks['artist_url'].unique()\n",
    "genres = get_artist_genre(artists, sp)"
   ]
  },
  {
   "cell_type": "code",
   "execution_count": null,
   "metadata": {},
   "outputs": [],
   "source": [
    "exploded_genres = pd.Series(genres, name='Genre').explode().reset_index()\n",
    "text = ' '.join(str(i) for i in exploded_genres.Genre)"
   ]
  },
  {
   "cell_type": "code",
   "execution_count": null,
   "metadata": {},
   "outputs": [],
   "source": [
    "wordcloud = WordCloud(background_color='White').generate(text)"
   ]
  },
  {
   "cell_type": "code",
   "execution_count": null,
   "metadata": {},
   "outputs": [],
   "source": [
    "plt.figure( figsize=(15,10))\n",
    "plt.imshow(wordcloud, interpolation='bilinear')\n",
    "plt.axis(\"off\")\n",
    "plt.show()"
   ]
  }
 ],
 "metadata": {
  "kernelspec": {
   "display_name": "Python 3.10.5 64-bit",
   "language": "python",
   "name": "python3"
  },
  "language_info": {
   "codemirror_mode": {
    "name": "ipython",
    "version": 3
   },
   "file_extension": ".py",
   "mimetype": "text/x-python",
   "name": "python",
   "nbconvert_exporter": "python",
   "pygments_lexer": "ipython3",
   "version": "3.10.5"
  },
  "orig_nbformat": 4,
  "vscode": {
   "interpreter": {
    "hash": "99ad8a9e5a54017690da210a436593ff41043aa3f9e36a04811f6ed1dc81282b"
   }
  }
 },
 "nbformat": 4,
 "nbformat_minor": 2
}
