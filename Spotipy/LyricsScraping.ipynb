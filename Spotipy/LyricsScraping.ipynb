{
 "cells": [
  {
   "cell_type": "code",
   "execution_count": 97,
   "metadata": {},
   "outputs": [],
   "source": [
    "import requests\n",
    "from bs4 import BeautifulSoup\n",
    "import re\n",
    "import pandas as pd\n"
   ]
  },
  {
   "cell_type": "code",
   "execution_count": 98,
   "metadata": {},
   "outputs": [],
   "source": [
    "def get_lyrics(link):\n",
    "    soup = BeautifulSoup(link.text, 'html')\n",
    "    larger_div = soup.find('div', {'class':'col-xs-12 col-lg-8 text-center'})\n",
    "    lyrics = larger_div.text\n",
    "    lyrics = lyrics[lyrics.find(\"\\\"\\n\\n\\n\\n\")+5:lyrics.find(\"Submit Corrections\")]\n",
    "    lyrics = re.sub('\\[(.*?)\\]','',lyrics)\n",
    "    lyrics = lyrics.replace('\\n',' ')\n",
    "    return lyrics\n"
   ]
  },
  {
   "cell_type": "code",
   "execution_count": 99,
   "metadata": {},
   "outputs": [],
   "source": [
    "data = pd.read_excel('PlaylistTracks.xlsx')"
   ]
  },
  {
   "cell_type": "code",
   "execution_count": 100,
   "metadata": {},
   "outputs": [],
   "source": [
    "tracks = data.iloc[0:6,1:3]"
   ]
  },
  {
   "cell_type": "code",
   "execution_count": 101,
   "metadata": {},
   "outputs": [],
   "source": [
    "tracks[\"name\"] = tracks[\"name\"].apply(lambda x: x.lower().replace(' ','').strip())\n",
    "tracks[\"artist_name\"] = tracks[\"artist_name\"].apply(lambda x: x.lower().replace(' ','').strip())"
   ]
  },
  {
   "cell_type": "code",
   "execution_count": 102,
   "metadata": {},
   "outputs": [],
   "source": [
    "tracks['lyrics_url'] = 'https://www.azlyrics.com/lyrics/'+tracks[\"artist_name\"]+'/'+tracks[\"name\"]+'.html'"
   ]
  },
  {
   "cell_type": "code",
   "execution_count": 105,
   "metadata": {},
   "outputs": [
    {
     "name": "stdout",
     "output_type": "stream",
     "text": [
      "https://www.azlyrics.com/lyrics/lindamartini/panteão.html\n",
      "https://www.azlyrics.com/lyrics/tidesfromnebula/purr.html\n",
      "https://www.azlyrics.com/lyrics/chon/dew.html\n",
      "https://www.azlyrics.com/lyrics/metz/headache.html\n",
      "https://www.azlyrics.com/lyrics/redfang/wires.html\n",
      "https://www.azlyrics.com/lyrics/redfang/bloodlikecream.html\n"
     ]
    }
   ],
   "source": [
    "lyrics_list = []\n",
    "\n",
    "for track_url in tracks[\"lyrics_url\"]:\n",
    "    link = requests.get(track_url)\n",
    "    print(track_url)\n",
    "    if link.status_code == 404:\n",
    "        lyrics = ''\n",
    "    else:\n",
    "        lyrics = get_lyrics(link)\n",
    "    lyrics_list.append(lyrics)\n"
   ]
  }
 ],
 "metadata": {
  "kernelspec": {
   "display_name": "Python 3",
   "language": "python",
   "name": "python3"
  },
  "language_info": {
   "codemirror_mode": {
    "name": "ipython",
    "version": 3
   },
   "file_extension": ".py",
   "mimetype": "text/x-python",
   "name": "python",
   "nbconvert_exporter": "python",
   "pygments_lexer": "ipython3",
   "version": "3.9.5 (tags/v3.9.5:0a7dcbd, May  3 2021, 17:27:52) [MSC v.1928 64 bit (AMD64)]"
  },
  "orig_nbformat": 4,
  "vscode": {
   "interpreter": {
    "hash": "81794d4967e6c3204c66dcd87b604927b115b27c00565d3d43f05ba2f3a2cb0d"
   }
  }
 },
 "nbformat": 4,
 "nbformat_minor": 2
}
