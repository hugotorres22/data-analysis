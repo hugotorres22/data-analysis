{
  "cells": [
    {
      "cell_type": "markdown",
      "metadata": {
        "id": "AxNQ82NbCcwv"
      },
      "source": [
        "Ideias:\n",
        "\n",
        "New is always better (Heat map para ver se ando a ouvir musica que adicionei recentemente)\n",
        "\n",
        "Divisão por estilos\n",
        "\n",
        "Divisão por artistas\n",
        "\n",
        "Horas ouvidas por dia\n",
        "\n",
        "Horas mais frequentes a ouvir\n",
        "\n",
        "Estilo mais predominante por hora\n",
        "\n",
        "Caracteristicas da musica"
      ]
    },
    {
      "cell_type": "code",
      "execution_count": 2,
      "metadata": {
        "colab": {
          "base_uri": "https://localhost:8080/"
        },
        "id": "glsvODBcbuMU",
        "outputId": "89a04bf8-3d8b-41de-cd13-2038765dc145"
      },
      "outputs": [],
      "source": [
        "# !pip install spotipy --user\n",
        "# !pip install wordcloud --user\n",
        "# !pip install pandas --user\n",
        "# !pip install numpy --user\n",
        "# !pip install matplotlib --user\n",
        "# !pip install seaborn --user\n",
        "# !pip install git+https://github.com/plamere/spotipy.git --upgrade\n",
        "# !pip install seaborn --user\n",
        "# !pip install python-dotenv --user\n",
        "# !pip install openpyxl --user\n",
        "# !pip install pyarrow --user"
      ]
    },
    {
      "cell_type": "code",
      "execution_count": 5,
      "metadata": {},
      "outputs": [
        {
          "name": "stdout",
          "output_type": "stream",
          "text": [
            "Collecting git+https://github.com/plamere/spotipy.git\n",
            "  Cloning https://github.com/plamere/spotipy.git to c:\\users\\hugo\\appdata\\local\\temp\\pip-req-build-p6leiu8t\n",
            "Requirement already satisfied: redis>=3.5.3 in c:\\users\\hugo\\appdata\\roaming\\python\\python39\\site-packages (from spotipy==2.22.0) (4.4.0)\n",
            "Requirement already satisfied: requests>=2.25.0 in c:\\users\\hugo\\appdata\\roaming\\python\\python39\\site-packages (from spotipy==2.22.0) (2.28.1)\n",
            "Requirement already satisfied: six>=1.15.0 in c:\\python39\\lib\\site-packages (from spotipy==2.22.0) (1.16.0)\n",
            "Requirement already satisfied: urllib3>=1.26.0 in c:\\python39\\lib\\site-packages (from spotipy==2.22.0) (1.26.13)\n",
            "Requirement already satisfied: async-timeout>=4.0.2 in c:\\users\\hugo\\appdata\\roaming\\python\\python39\\site-packages (from redis>=3.5.3->spotipy==2.22.0) (4.0.2)\n",
            "Requirement already satisfied: charset-normalizer<3,>=2 in c:\\python39\\lib\\site-packages (from requests>=2.25.0->spotipy==2.22.0) (2.1.1)\n",
            "Requirement already satisfied: certifi>=2017.4.17 in c:\\users\\hugo\\appdata\\roaming\\python\\python39\\site-packages (from requests>=2.25.0->spotipy==2.22.0) (2022.12.7)\n",
            "Requirement already satisfied: idna<4,>=2.5 in c:\\python39\\lib\\site-packages (from requests>=2.25.0->spotipy==2.22.0) (3.4)\n"
          ]
        },
        {
          "name": "stderr",
          "output_type": "stream",
          "text": [
            "  Running command git clone -q https://github.com/plamere/spotipy.git 'C:\\Users\\Hugo\\AppData\\Local\\Temp\\pip-req-build-p6leiu8t'\n",
            "WARNING: You are using pip version 21.1.1; however, version 22.3.1 is available.\n",
            "You should consider upgrading via the 'c:\\python39\\python.exe -m pip install --upgrade pip' command.\n"
          ]
        }
      ],
      "source": [
        "!pip install git+https://github.com/plamere/spotipy.git --upgrade"
      ]
    },
    {
      "cell_type": "code",
      "execution_count": 3,
      "metadata": {
        "id": "49hLaZMNFAdV"
      },
      "outputs": [
        {
          "ename": "ModuleNotFoundError",
          "evalue": "No module named 'spotipy'",
          "output_type": "error",
          "traceback": [
            "\u001b[1;31m---------------------------------------------------------------------------\u001b[0m",
            "\u001b[1;31mModuleNotFoundError\u001b[0m                       Traceback (most recent call last)",
            "Cell \u001b[1;32mIn[3], line 1\u001b[0m\n\u001b[1;32m----> 1\u001b[0m \u001b[39mimport\u001b[39;00m \u001b[39mspotipy\u001b[39;00m\n\u001b[0;32m      2\u001b[0m \u001b[39mfrom\u001b[39;00m \u001b[39mspotipy\u001b[39;00m\u001b[39m.\u001b[39;00m\u001b[39moauth2\u001b[39;00m \u001b[39mimport\u001b[39;00m SpotifyOAuth, SpotifyClientCredentials\n\u001b[0;32m      3\u001b[0m \u001b[39mimport\u001b[39;00m \u001b[39mpandas\u001b[39;00m \u001b[39mas\u001b[39;00m \u001b[39mpd\u001b[39;00m\n",
            "\u001b[1;31mModuleNotFoundError\u001b[0m: No module named 'spotipy'"
          ]
        }
      ],
      "source": [
        "import spotipy\n",
        "from spotipy.oauth2 import SpotifyOAuth, SpotifyClientCredentials\n",
        "import pandas as pd\n",
        "import time\n",
        "import numpy as np\n",
        "from functions.spotipyTools import *\n",
        "from dotenv import load_dotenv\n",
        "import os\n",
        "import openpyxl"
      ]
    },
    {
      "cell_type": "code",
      "execution_count": null,
      "metadata": {},
      "outputs": [
        {
          "data": {
            "text/plain": [
              "True"
            ]
          },
          "execution_count": 15,
          "metadata": {},
          "output_type": "execute_result"
        }
      ],
      "source": [
        "load_dotenv()"
      ]
    },
    {
      "cell_type": "code",
      "execution_count": null,
      "metadata": {
        "id": "IMcbLjH7F4Nl"
      },
      "outputs": [],
      "source": [
        "e_client_id = os.environ[\"client_id\"]\n",
        "e_client_key = os.environ[\"client_key\"]\n",
        "e_playlist_id = os.environ[\"playlist_id\"]\n",
        "e_user_id = os.environ[\"user_id\"]\n",
        "\n",
        "client_credentials_manager = SpotifyClientCredentials(e_client_id, e_client_key)\n",
        "sp = spotipy.Spotify(client_credentials_manager=client_credentials_manager)"
      ]
    },
    {
      "cell_type": "code",
      "execution_count": null,
      "metadata": {
        "id": "JMDQoTlgSRu9"
      },
      "outputs": [],
      "source": [
        "all_tracks, dates_added = get_playlist_info(e_user_id, e_playlist_id, sp)\n",
        "\n",
        "track_info_list = []\n",
        "\n",
        "for item in all_tracks:\n",
        "  track_info_list.append(get_track_info(item, sp))\n",
        "\n",
        "df_tracks = pd.DataFrame(track_info_list, columns=['name', 'artist_name', 'album_name', 'album_date', 'album_popularity', 'track_duration', 'danceability', 'energy', 'instrumentalness', 'liveness', 'tempo','artist_url'])\n",
        "\n",
        "df_tracks['date_added'] = dates_added"
      ]
    },
    {
      "cell_type": "code",
      "execution_count": null,
      "metadata": {
        "id": "3vGF4X4Pc9B2"
      },
      "outputs": [],
      "source": [
        "#df_tracks['album_year'] = pd.to_datetime(df_tracks['album_year'], format='%Y-%m-%d').dt.year\n",
        "df_tracks['album_year'] = pd.to_datetime(df_tracks['album_date'], format='%Y-%m-%d').dt.year\n",
        "df_tracks['date_added'] = df_tracks['date_added'].map(lambda x:pd.to_datetime(x[:10], format='%Y-%m-%d'))"
      ]
    },
    {
      "cell_type": "code",
      "execution_count": null,
      "metadata": {
        "id": "3A6sG9fcgf12"
      },
      "outputs": [],
      "source": [
        "track_minutes = np.floor(df_tracks['track_duration']/1000/60).astype(int).astype(str)\n",
        "track_seconds = np.mod(df_tracks['track_duration']/1000,60).astype(int).astype(str)\n",
        "track_time = track_minutes.append(track_seconds).groupby(level=0).agg(':'.join)\n",
        "df_tracks['track_duration'] = pd.to_datetime(track_time, format='%M:%S').dt.time\n",
        "df_tracks['track_duration_secs'] = df_tracks['track_duration'].apply(lambda x: x.minute * 60 + x.second)"
      ]
    },
    {
      "cell_type": "code",
      "execution_count": null,
      "metadata": {
        "colab": {
          "base_uri": "https://localhost:8080/",
          "height": 461
        },
        "id": "RIBZrfHiogEG",
        "outputId": "f5702824-e643-4372-893d-5472a8c749dd"
      },
      "outputs": [],
      "source": [
        "df_tracks.tail()"
      ]
    },
    {
      "cell_type": "code",
      "execution_count": null,
      "metadata": {},
      "outputs": [],
      "source": [
        "df_tracks.to_excel('PlaylistTracks.xlsx', engine='openpyxl')\n",
        "df_tracks.to_parquet('PlaylistTracks.parquet', engine='pyarrow')"
      ]
    }
  ],
  "metadata": {
    "colab": {
      "authorship_tag": "ABX9TyP6gF3kEd0XJzzuG9gQOT22",
      "include_colab_link": true,
      "name": "Spotipy.ipynb",
      "provenance": []
    },
    "kernelspec": {
      "display_name": "Python 3",
      "language": "python",
      "name": "python3"
    },
    "language_info": {
      "codemirror_mode": {
        "name": "ipython",
        "version": 3
      },
      "file_extension": ".py",
      "mimetype": "text/x-python",
      "name": "python",
      "nbconvert_exporter": "python",
      "pygments_lexer": "ipython3",
      "version": "3.9.5 (tags/v3.9.5:0a7dcbd, May  3 2021, 17:27:52) [MSC v.1928 64 bit (AMD64)]"
    },
    "vscode": {
      "interpreter": {
        "hash": "81794d4967e6c3204c66dcd87b604927b115b27c00565d3d43f05ba2f3a2cb0d"
      }
    }
  },
  "nbformat": 4,
  "nbformat_minor": 0
}
