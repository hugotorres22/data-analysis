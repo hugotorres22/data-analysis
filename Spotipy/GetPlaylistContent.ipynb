{
  "cells": [
    {
      "attachments": {},
      "cell_type": "markdown",
      "metadata": {},
      "source": [
        "### Spotipy - Get Playlist Content\n",
        "\n",
        "In this file the goal is to extract and process all the data about the songs contained in the playlist \"A Jukebox do Torres\". "
      ]
    },
    {
      "cell_type": "code",
      "execution_count": 1,
      "metadata": {
        "colab": {
          "base_uri": "https://localhost:8080/"
        },
        "id": "glsvODBcbuMU",
        "outputId": "89a04bf8-3d8b-41de-cd13-2038765dc145"
      },
      "outputs": [],
      "source": [
        "# !pip install spotipy --user\n",
        "# !pip install wordcloud --user\n",
        "# !pip install pandas --user\n",
        "# !pip install numpy --user\n",
        "# !pip install matplotlib --user\n",
        "# !pip install seaborn --user\n",
        "# !pip install seaborn --user\n",
        "# !pip install python-dotenv --user\n",
        "# !pip install openpyxl --user\n",
        "# !pip install pyarrow --user\n",
        "\n",
        "#The lines below were necessary due to some bugs with the latest updates of spotipy\n",
        "# !pip install git+https://github.com/plamere/spotipy.git --upgrade\n",
        "# !pip install urllib3 --upgrade \n",
        "# !pip install requests --upgrade \n",
        "# !pip install spotipy --upgrade"
      ]
    },
    {
      "cell_type": "code",
      "execution_count": 1,
      "metadata": {
        "id": "49hLaZMNFAdV"
      },
      "outputs": [],
      "source": [
        "import spotipy\n",
        "from spotipy.oauth2 import SpotifyOAuth, SpotifyClientCredentials\n",
        "import pandas as pd\n",
        "import time\n",
        "import numpy as np\n",
        "from functions.spotipyTools import *\n",
        "from dotenv import load_dotenv\n",
        "import os\n",
        "import openpyxl"
      ]
    },
    {
      "cell_type": "code",
      "execution_count": 2,
      "metadata": {},
      "outputs": [
        {
          "data": {
            "text/plain": [
              "True"
            ]
          },
          "execution_count": 2,
          "metadata": {},
          "output_type": "execute_result"
        }
      ],
      "source": [
        "load_dotenv()"
      ]
    },
    {
      "cell_type": "code",
      "execution_count": 3,
      "metadata": {
        "id": "IMcbLjH7F4Nl"
      },
      "outputs": [],
      "source": [
        "#The instructions to replicate this step will be inluded in the repository readme file\n",
        "\n",
        "e_client_id = os.environ[\"client_id\"]\n",
        "e_client_key = os.environ[\"client_key\"]\n",
        "e_playlist_id = os.environ[\"playlist_id\"]\n",
        "e_user_id = os.environ[\"user_id\"]\n",
        "\n",
        "client_credentials_manager = SpotifyClientCredentials(e_client_id, e_client_key)\n",
        "sp = spotipy.Spotify(client_credentials_manager=client_credentials_manager)"
      ]
    },
    {
      "attachments": {},
      "cell_type": "markdown",
      "metadata": {},
      "source": [
        "First we use spotipy to grab all the track's IDs from the playlist, with the respective date when they were added. We use the functions created in the _functions_ folder."
      ]
    },
    {
      "cell_type": "code",
      "execution_count": 4,
      "metadata": {
        "id": "JMDQoTlgSRu9"
      },
      "outputs": [],
      "source": [
        "all_tracks, dates_added = get_playlist_info(e_user_id, e_playlist_id, sp)\n",
        "\n",
        "track_info_list = []\n",
        "\n",
        "for item in all_tracks:\n",
        "  track_info_list.append(get_track_info(item, sp))\n",
        "\n",
        "df_tracks = pd.DataFrame(track_info_list, columns=['name', 'artist_name', 'album_name', 'album_date', 'album_popularity', 'track_duration', 'danceability', 'energy', 'instrumentalness', 'liveness', 'tempo','artist_url'])\n",
        "\n",
        "df_tracks['date_added'] = dates_added"
      ]
    },
    {
      "cell_type": "code",
      "execution_count": 5,
      "metadata": {},
      "outputs": [
        {
          "data": {
            "text/plain": [
              "name                 object\n",
              "artist_name          object\n",
              "album_name           object\n",
              "album_date           object\n",
              "album_popularity      int64\n",
              "track_duration        int64\n",
              "danceability        float64\n",
              "energy              float64\n",
              "instrumentalness    float64\n",
              "liveness            float64\n",
              "tempo               float64\n",
              "artist_url           object\n",
              "date_added           object\n",
              "dtype: object"
            ]
          },
          "execution_count": 5,
          "metadata": {},
          "output_type": "execute_result"
        }
      ],
      "source": [
        "df_tracks.dtypes"
      ]
    },
    {
      "cell_type": "code",
      "execution_count": 7,
      "metadata": {},
      "outputs": [
        {
          "data": {
            "text/html": [
              "<div>\n",
              "<style scoped>\n",
              "    .dataframe tbody tr th:only-of-type {\n",
              "        vertical-align: middle;\n",
              "    }\n",
              "\n",
              "    .dataframe tbody tr th {\n",
              "        vertical-align: top;\n",
              "    }\n",
              "\n",
              "    .dataframe thead th {\n",
              "        text-align: right;\n",
              "    }\n",
              "</style>\n",
              "<table border=\"1\" class=\"dataframe\">\n",
              "  <thead>\n",
              "    <tr style=\"text-align: right;\">\n",
              "      <th></th>\n",
              "      <th>name</th>\n",
              "      <th>artist_name</th>\n",
              "      <th>album_name</th>\n",
              "      <th>album_date</th>\n",
              "      <th>album_popularity</th>\n",
              "      <th>track_duration</th>\n",
              "      <th>danceability</th>\n",
              "      <th>energy</th>\n",
              "      <th>instrumentalness</th>\n",
              "      <th>liveness</th>\n",
              "      <th>tempo</th>\n",
              "      <th>artist_url</th>\n",
              "      <th>date_added</th>\n",
              "    </tr>\n",
              "  </thead>\n",
              "  <tbody>\n",
              "    <tr>\n",
              "      <th>0</th>\n",
              "      <td>Panteão</td>\n",
              "      <td>Linda Martini</td>\n",
              "      <td>Turbo Lento</td>\n",
              "      <td>2013-01-01</td>\n",
              "      <td>23</td>\n",
              "      <td>252340</td>\n",
              "      <td>0.352</td>\n",
              "      <td>0.911</td>\n",
              "      <td>0.6470</td>\n",
              "      <td>0.503</td>\n",
              "      <td>158.025</td>\n",
              "      <td>https://open.spotify.com/artist/4Pv6qAkea25i2D...</td>\n",
              "      <td>2013-10-06T11:12:10Z</td>\n",
              "    </tr>\n",
              "    <tr>\n",
              "      <th>1</th>\n",
              "      <td>purr</td>\n",
              "      <td>Tides From Nebula</td>\n",
              "      <td>Aura</td>\n",
              "      <td>2009-01-01</td>\n",
              "      <td>0</td>\n",
              "      <td>259839</td>\n",
              "      <td>0.115</td>\n",
              "      <td>0.646</td>\n",
              "      <td>0.9570</td>\n",
              "      <td>0.367</td>\n",
              "      <td>167.241</td>\n",
              "      <td>https://open.spotify.com/artist/1CzKORB9IN0EjP...</td>\n",
              "      <td>2013-10-06T11:12:29Z</td>\n",
              "    </tr>\n",
              "    <tr>\n",
              "      <th>2</th>\n",
              "      <td>Dew</td>\n",
              "      <td>Chon</td>\n",
              "      <td>Newborn Sun</td>\n",
              "      <td>2013-06-11</td>\n",
              "      <td>35</td>\n",
              "      <td>195242</td>\n",
              "      <td>0.282</td>\n",
              "      <td>0.897</td>\n",
              "      <td>0.8130</td>\n",
              "      <td>0.202</td>\n",
              "      <td>100.089</td>\n",
              "      <td>https://open.spotify.com/artist/2JFljHPanIjYy2...</td>\n",
              "      <td>2013-10-06T11:12:31Z</td>\n",
              "    </tr>\n",
              "    <tr>\n",
              "      <th>3</th>\n",
              "      <td>Headache</td>\n",
              "      <td>Metz</td>\n",
              "      <td>METZ</td>\n",
              "      <td>2012-10-09</td>\n",
              "      <td>0</td>\n",
              "      <td>138800</td>\n",
              "      <td>0.248</td>\n",
              "      <td>0.942</td>\n",
              "      <td>0.0321</td>\n",
              "      <td>0.611</td>\n",
              "      <td>154.834</td>\n",
              "      <td>https://open.spotify.com/artist/18TNVFTJ6Wfeic...</td>\n",
              "      <td>2013-10-06T11:12:39Z</td>\n",
              "    </tr>\n",
              "    <tr>\n",
              "      <th>4</th>\n",
              "      <td>Wires</td>\n",
              "      <td>Red Fang</td>\n",
              "      <td>Murder the Mountains</td>\n",
              "      <td>2011-04-12</td>\n",
              "      <td>0</td>\n",
              "      <td>343306</td>\n",
              "      <td>0.178</td>\n",
              "      <td>0.894</td>\n",
              "      <td>0.3110</td>\n",
              "      <td>0.257</td>\n",
              "      <td>132.860</td>\n",
              "      <td>https://open.spotify.com/artist/3u4HBuoQ4dgPBz...</td>\n",
              "      <td>2013-10-06T11:12:57Z</td>\n",
              "    </tr>\n",
              "  </tbody>\n",
              "</table>\n",
              "</div>"
            ],
            "text/plain": [
              "       name        artist_name            album_name  album_date  \\\n",
              "0   Panteão      Linda Martini           Turbo Lento  2013-01-01   \n",
              "1      purr  Tides From Nebula                  Aura  2009-01-01   \n",
              "2       Dew               Chon           Newborn Sun  2013-06-11   \n",
              "3  Headache               Metz                  METZ  2012-10-09   \n",
              "4     Wires           Red Fang  Murder the Mountains  2011-04-12   \n",
              "\n",
              "   album_popularity  track_duration  danceability  energy  instrumentalness  \\\n",
              "0                23          252340         0.352   0.911            0.6470   \n",
              "1                 0          259839         0.115   0.646            0.9570   \n",
              "2                35          195242         0.282   0.897            0.8130   \n",
              "3                 0          138800         0.248   0.942            0.0321   \n",
              "4                 0          343306         0.178   0.894            0.3110   \n",
              "\n",
              "   liveness    tempo                                         artist_url  \\\n",
              "0     0.503  158.025  https://open.spotify.com/artist/4Pv6qAkea25i2D...   \n",
              "1     0.367  167.241  https://open.spotify.com/artist/1CzKORB9IN0EjP...   \n",
              "2     0.202  100.089  https://open.spotify.com/artist/2JFljHPanIjYy2...   \n",
              "3     0.611  154.834  https://open.spotify.com/artist/18TNVFTJ6Wfeic...   \n",
              "4     0.257  132.860  https://open.spotify.com/artist/3u4HBuoQ4dgPBz...   \n",
              "\n",
              "             date_added  \n",
              "0  2013-10-06T11:12:10Z  \n",
              "1  2013-10-06T11:12:29Z  \n",
              "2  2013-10-06T11:12:31Z  \n",
              "3  2013-10-06T11:12:39Z  \n",
              "4  2013-10-06T11:12:57Z  "
            ]
          },
          "execution_count": 7,
          "metadata": {},
          "output_type": "execute_result"
        }
      ],
      "source": [
        "df_tracks.head()"
      ]
    },
    {
      "attachments": {},
      "cell_type": "markdown",
      "metadata": {},
      "source": [
        "Apply the correct formatting to the date columns"
      ]
    },
    {
      "cell_type": "code",
      "execution_count": 8,
      "metadata": {
        "id": "3vGF4X4Pc9B2"
      },
      "outputs": [],
      "source": [
        "df_tracks['album_year'] = pd.to_datetime(df_tracks['album_date'], format='%Y-%m-%d').dt.year\n",
        "df_tracks['date_added'] = df_tracks['date_added'].map(lambda x:pd.to_datetime(x[:10], format='%Y-%m-%d'))"
      ]
    },
    {
      "attachments": {},
      "cell_type": "markdown",
      "metadata": {},
      "source": [
        "Track's duration are retrieved in miliseconds, so it needs to be converted to minutes and seconds. Keeping the minutes and seconds in a correct format might be worth it later for display purposes. The column with the total number of seconds will also be created for statistical purposes."
      ]
    },
    {
      "cell_type": "code",
      "execution_count": 10,
      "metadata": {
        "id": "3A6sG9fcgf12"
      },
      "outputs": [
        {
          "name": "stderr",
          "output_type": "stream",
          "text": [
            "C:\\Users\\Hugo\\AppData\\Local\\Temp\\ipykernel_12388\\3635295769.py:3: FutureWarning: The series.append method is deprecated and will be removed from pandas in a future version. Use pandas.concat instead.\n",
            "  track_time = track_minutes.append(track_seconds).groupby(level=0).agg(':'.join)\n"
          ]
        }
      ],
      "source": [
        "track_minutes = np.floor(df_tracks['track_duration']/1000/60).astype(int).astype(str)\n",
        "track_seconds = np.mod(df_tracks['track_duration']/1000,60).astype(int).astype(str)\n",
        "track_time = track_minutes.append(track_seconds).groupby(level=0).agg(':'.join)\n",
        "df_tracks['track_duration'] = pd.to_datetime(track_time, format='%M:%S').dt.time\n",
        "df_tracks['track_duration_secs'] = df_tracks['track_duration'].apply(lambda x: x.minute * 60 + x.second)"
      ]
    },
    {
      "attachments": {},
      "cell_type": "markdown",
      "metadata": {},
      "source": [
        "Export in both formats:\n",
        "- xlsx: for visualization softwares\n",
        "- parquet: for faster load when performing further analysis"
      ]
    },
    {
      "cell_type": "code",
      "execution_count": null,
      "metadata": {},
      "outputs": [],
      "source": [
        "df_tracks.to_excel('PlaylistTracks.xlsx', engine='openpyxl')\n",
        "df_tracks.to_parquet('PlaylistTracks.parquet', engine='pyarrow')"
      ]
    }
  ],
  "metadata": {
    "colab": {
      "authorship_tag": "ABX9TyP6gF3kEd0XJzzuG9gQOT22",
      "include_colab_link": true,
      "name": "Spotipy.ipynb",
      "provenance": []
    },
    "kernelspec": {
      "display_name": "Python 3",
      "language": "python",
      "name": "python3"
    },
    "language_info": {
      "codemirror_mode": {
        "name": "ipython",
        "version": 3
      },
      "file_extension": ".py",
      "mimetype": "text/x-python",
      "name": "python",
      "nbconvert_exporter": "python",
      "pygments_lexer": "ipython3",
      "version": "3.9.5"
    },
    "vscode": {
      "interpreter": {
        "hash": "81794d4967e6c3204c66dcd87b604927b115b27c00565d3d43f05ba2f3a2cb0d"
      }
    }
  },
  "nbformat": 4,
  "nbformat_minor": 0
}
